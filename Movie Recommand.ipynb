{
 "cells": [
  {
   "cell_type": "code",
   "execution_count": null,
   "metadata": {
    "executionInfo": {
     "elapsed": 15,
     "status": "ok",
     "timestamp": 1760467687315,
     "user": {
      "displayName": "Shashank Singh",
      "userId": "13663785191081520436"
     },
     "user_tz": -330
    },
    "id": "MniI7Vy3sy29"
   },
   "outputs": [
    {
     "ename": "",
     "evalue": "",
     "output_type": "error",
     "traceback": [
      "\u001b[1;31mThe kernel failed to start as the Python Environment 'Python 3.13.2' is no longer available. Consider selecting another kernel or refreshing the list of Python Environments."
     ]
    }
   ],
   "source": [
    "import pandas as pd\n",
    "import numpy as np\n",
    "import matplotlib.pyplot as plt\n",
    "import seaborn as sns\n",
    "import warnings\n",
    "\n",
    "warnings.filterwarnings(\"ignore\")"
   ]
  },
  {
   "cell_type": "code",
   "execution_count": null,
   "metadata": {},
   "outputs": [],
   "source": []
  },
  {
   "cell_type": "code",
   "execution_count": null,
   "metadata": {},
   "outputs": [],
   "source": []
  },
  {
   "cell_type": "code",
   "execution_count": null,
   "metadata": {
    "executionInfo": {
     "elapsed": 142,
     "status": "ok",
     "timestamp": 1760467687477,
     "user": {
      "displayName": "Shashank Singh",
      "userId": "13663785191081520436"
     },
     "user_tz": -330
    },
    "id": "W530e584tNQS"
   },
   "outputs": [],
   "source": [
    "movies = pd.read_csv('dataset.csv')"
   ]
  },
  {
   "cell_type": "code",
   "execution_count": null,
   "metadata": {
    "colab": {
     "base_uri": "https://localhost:8080/",
     "height": 414
    },
    "executionInfo": {
     "elapsed": 76,
     "status": "ok",
     "timestamp": 1760467687554,
     "user": {
      "displayName": "Shashank Singh",
      "userId": "13663785191081520436"
     },
     "user_tz": -330
    },
    "id": "EGqy-bxQtQtG",
    "outputId": "9b062e97-e27f-4a93-e8ba-d0046882dc98"
   },
   "outputs": [],
   "source": [
    "movies.head()"
   ]
  },
  {
   "cell_type": "code",
   "execution_count": null,
   "metadata": {
    "colab": {
     "base_uri": "https://localhost:8080/",
     "height": 588
    },
    "executionInfo": {
     "elapsed": 48,
     "status": "ok",
     "timestamp": 1760467687604,
     "user": {
      "displayName": "Shashank Singh",
      "userId": "13663785191081520436"
     },
     "user_tz": -330
    },
    "id": "Sy4wxgnVtZ_l",
    "outputId": "6d51b68a-4dca-4495-a641-078cc5a86ff7"
   },
   "outputs": [],
   "source": [
    "movies.tail(",
    "\n",
    " )"
   ]
  },
  {
   "cell_type": "code",
   "execution_count": null,
   "metadata": {
    "colab": {
     "base_uri": "https://localhost:8080/",
     "height": 300
    },
    "executionInfo": {
     "elapsed": 263,
     "status": "ok",
     "timestamp": 1760467687869,
     "user": {
      "displayName": "Shashank Singh",
      "userId": "13663785191081520436"
     },
     "user_tz": -330
    },
    "id": "PPvvFkYhtnPC",
    "outputId": "4c45b52f-306b-4f7a-8a3c-c2a3f08f028e"
   },
   "outputs": [],
   "source": [
    "movies.describe()"
   ]
  },
  {
   "cell_type": "code",
   "execution_count": null,
   "metadata": {
    "colab": {
     "base_uri": "https://localhost:8080/",
     "height": 366
    },
    "executionInfo": {
     "elapsed": 23,
     "status": "ok",
     "timestamp": 1760467687895,
     "user": {
      "displayName": "Shashank Singh",
      "userId": "13663785191081520436"
     },
     "user_tz": -330
    },
    "id": "OZRCtFcxtpg4",
    "outputId": "b82ee54c-2d9c-4bfc-d42b-f09aeef3b49d"
   },
   "outputs": [],
   "source": [
    "movies.isnull().sum()"
   ]
  },
  {
   "cell_type": "code",
   "execution_count": null,
   "metadata": {
    "colab": {
     "base_uri": "https://localhost:8080/"
    },
    "executionInfo": {
     "elapsed": 15,
     "status": "ok",
     "timestamp": 1760467687911,
     "user": {
      "displayName": "Shashank Singh",
      "userId": "13663785191081520436"
     },
     "user_tz": -330
    },
    "id": "XCH8ikGhtzpH",
    "outputId": "ff8c2395-0d99-483b-86e6-b3ec04ff189f"
   },
   "outputs": [],
   "source": [
    "movies.columns\n"
   ]
  },
  {
   "cell_type": "code",
   "execution_count": null,
   "metadata": {
    "colab": {
     "base_uri": "https://localhost:8080/",
     "height": 414
    },
    "executionInfo": {
     "elapsed": 254,
     "status": "ok",
     "timestamp": 1760467688166,
     "user": {
      "displayName": "Shashank Singh",
      "userId": "13663785191081520436"
     },
     "user_tz": -330
    },
    "id": "c4V_2APyt2oj",
    "outputId": "e587efa8-8f12-455d-d5fe-be71ff81b3e9"
   },
   "outputs": [],
   "source": [
    "movies.head()"
   ]
  },
  {
   "cell_type": "code",
   "execution_count": null,
   "metadata": {
    "executionInfo": {
     "elapsed": 2,
     "status": "ok",
     "timestamp": 1760467688170,
     "user": {
      "displayName": "Shashank Singh",
      "userId": "13663785191081520436"
     },
     "user_tz": -330
    },
    "id": "rdp4CaoGuM5P"
   },
   "outputs": [],
   "source": [
    "movies=movies[['id','title','overview', 'genre']]"
   ]
  },
  {
   "cell_type": "code",
   "execution_count": null,
   "metadata": {
    "colab": {
     "base_uri": "https://localhost:8080/",
     "height": 206
    },
    "executionInfo": {
     "elapsed": 56,
     "status": "ok",
     "timestamp": 1760467688226,
     "user": {
      "displayName": "Shashank Singh",
      "userId": "13663785191081520436"
     },
     "user_tz": -330
    },
    "id": "ZLnZ7mhguofN",
    "outputId": "271b43f6-6841-411f-8ee6-2c65b05db6dd"
   },
   "outputs": [],
   "source": [
    "movies.head()"
   ]
  },
  {
   "cell_type": "code",
   "execution_count": null,
   "metadata": {
    "executionInfo": {
     "elapsed": 1,
     "status": "ok",
     "timestamp": 1760467688232,
     "user": {
      "displayName": "Shashank Singh",
      "userId": "13663785191081520436"
     },
     "user_tz": -330
    },
    "id": "xLT6IGbDurJT"
   },
   "outputs": [],
   "source": [
    "movies['tags']=movies['overview']+movies['genre']"
   ]
  },
  {
   "cell_type": "code",
   "execution_count": null,
   "metadata": {
    "colab": {
     "base_uri": "https://localhost:8080/",
     "height": 293
    },
    "executionInfo": {
     "elapsed": 36,
     "status": "ok",
     "timestamp": 1760467688269,
     "user": {
      "displayName": "Shashank Singh",
      "userId": "13663785191081520436"
     },
     "user_tz": -330
    },
    "id": "gOUJwKJuvGWE",
    "outputId": "9c472edb-645c-4561-85d5-6b8faa962c25"
   },
   "outputs": [],
   "source": [
    "movies.head()"
   ]
  },
  {
   "cell_type": "code",
   "execution_count": null,
   "metadata": {
    "executionInfo": {
     "elapsed": 1,
     "status": "ok",
     "timestamp": 1760467688272,
     "user": {
      "displayName": "Shashank Singh",
      "userId": "13663785191081520436"
     },
     "user_tz": -330
    },
    "id": "_RZj_x-4vHgp"
   },
   "outputs": [],
   "source": [
    "new_data = movies.drop(columns=['overview', 'genre'])"
   ]
  },
  {
   "cell_type": "code",
   "execution_count": null,
   "metadata": {
    "colab": {
     "base_uri": "https://localhost:8080/",
     "height": 423
    },
    "executionInfo": {
     "elapsed": 39,
     "status": "ok",
     "timestamp": 1760467688313,
     "user": {
      "displayName": "Shashank Singh",
      "userId": "13663785191081520436"
     },
     "user_tz": -330
    },
    "id": "VjzuGxoKvYlg",
    "outputId": "6c94c8f7-e2bb-442c-f82a-989c2abb7246"
   },
   "outputs": [],
   "source": [
    "new_data\n"
   ]
  },
  {
   "cell_type": "code",
   "execution_count": null,
   "metadata": {
    "colab": {
     "base_uri": "https://localhost:8080/",
     "height": 206
    },
    "executionInfo": {
     "elapsed": 29,
     "status": "ok",
     "timestamp": 1760467688343,
     "user": {
      "displayName": "Shashank Singh",
      "userId": "13663785191081520436"
     },
     "user_tz": -330
    },
    "id": "QXQ4et41vaCo",
    "outputId": "e516f125-bf5c-492d-a0c0-f5c64122e019"
   },
   "outputs": [],
   "source": [
    "new_data.head()"
   ]
  },
  {
   "cell_type": "code",
   "execution_count": null,
   "metadata": {
    "executionInfo": {
     "elapsed": 15,
     "status": "ok",
     "timestamp": 1760467688351,
     "user": {
      "displayName": "Shashank Singh",
      "userId": "13663785191081520436"
     },
     "user_tz": -330
    },
    "id": "Fcz-BLNSvbpO"
   },
   "outputs": [],
   "source": [
    "from sklearn.feature_extraction.text import CountVectorizer"
   ]
  },
  {
   "cell_type": "code",
   "execution_count": null,
   "metadata": {
    "executionInfo": {
     "elapsed": 2,
     "status": "ok",
     "timestamp": 1760467688354,
     "user": {
      "displayName": "Shashank Singh",
      "userId": "13663785191081520436"
     },
     "user_tz": -330
    },
    "id": "syRCU-onwiSl"
   },
   "outputs": [],
   "source": [
    "cv=CountVectorizer(max_features=10000, stop_words='english')"
   ]
  },
  {
   "cell_type": "code",
   "execution_count": null,
   "metadata": {
    "colab": {
     "base_uri": "https://localhost:8080/",
     "height": 80
    },
    "executionInfo": {
     "elapsed": 112,
     "status": "ok",
     "timestamp": 1760467688468,
     "user": {
      "displayName": "Shashank Singh",
      "userId": "13663785191081520436"
     },
     "user_tz": -330
    },
    "id": "21xhJBuYwrS-",
    "outputId": "a2c1e03c-27ea-4eef-c1fe-227d400281ea"
   },
   "outputs": [],
   "source": [
    "cv"
   ]
  },
  {
   "cell_type": "code",
   "execution_count": null,
   "metadata": {
    "executionInfo": {
     "elapsed": 847,
     "status": "ok",
     "timestamp": 1760467689317,
     "user": {
      "displayName": "Shashank Singh",
      "userId": "13663785191081520436"
     },
     "user_tz": -330
    },
    "id": "OuBTRrxqw46p"
   },
   "outputs": [],
   "source": [
    "vector=cv.fit_transform(new_data['tags'].values.astype('U')).toarray()"
   ]
  },
  {
   "cell_type": "code",
   "execution_count": null,
   "metadata": {
    "colab": {
     "base_uri": "https://localhost:8080/"
    },
    "executionInfo": {
     "elapsed": 10,
     "status": "ok",
     "timestamp": 1760467689329,
     "user": {
      "displayName": "Shashank Singh",
      "userId": "13663785191081520436"
     },
     "user_tz": -330
    },
    "id": "3lpVU8yVxMCD",
    "outputId": "cd10d0e3-d22c-4080-efe3-5669b7561c8e"
   },
   "outputs": [],
   "source": [
    "vector.shape"
   ]
  },
  {
   "cell_type": "code",
   "execution_count": null,
   "metadata": {
    "executionInfo": {
     "elapsed": 3,
     "status": "ok",
     "timestamp": 1760467689330,
     "user": {
      "displayName": "Shashank Singh",
      "userId": "13663785191081520436"
     },
     "user_tz": -330
    },
    "id": "Vn2QY16wxQOJ"
   },
   "outputs": [],
   "source": [
    "from sklearn.metrics.pairwise import cosine_similarity"
   ]
  },
  {
   "cell_type": "code",
   "execution_count": null,
   "metadata": {
    "executionInfo": {
     "elapsed": 37091,
     "status": "ok",
     "timestamp": 1760467726419,
     "user": {
      "displayName": "Shashank Singh",
      "userId": "13663785191081520436"
     },
     "user_tz": -330
    },
    "id": "K1BDGQ-y05MU"
   },
   "outputs": [],
   "source": [
    "similarity=cosine_similarity(vector)"
   ]
  },
  {
   "cell_type": "code",
   "execution_count": null,
   "metadata": {
    "colab": {
     "base_uri": "https://localhost:8080/"
    },
    "executionInfo": {
     "elapsed": 25,
     "status": "ok",
     "timestamp": 1760467726456,
     "user": {
      "displayName": "Shashank Singh",
      "userId": "13663785191081520436"
     },
     "user_tz": -330
    },
    "id": "Cs5XOOWU1ADV",
    "outputId": "035a8398-0994-43ea-9c4a-bcc740b0f6e1"
   },
   "outputs": [],
   "source": [
    "similarity"
   ]
  },
  {
   "cell_type": "code",
   "execution_count": null,
   "metadata": {
    "colab": {
     "base_uri": "https://localhost:8080/"
    },
    "executionInfo": {
     "elapsed": 6,
     "status": "ok",
     "timestamp": 1760467726464,
     "user": {
      "displayName": "Shashank Singh",
      "userId": "13663785191081520436"
     },
     "user_tz": -330
    },
    "id": "ZGgrl-yA1Vb7",
    "outputId": "828fec6d-152a-40b1-a045-2f9cbbbbc59c"
   },
   "outputs": [],
   "source": [
    "new_data[new_data['title']==\"The Godfather\"].index[0]"
   ]
  },
  {
   "cell_type": "code",
   "execution_count": null,
   "metadata": {
    "colab": {
     "base_uri": "https://localhost:8080/"
    },
    "executionInfo": {
     "elapsed": 7,
     "status": "ok",
     "timestamp": 1760467726472,
     "user": {
      "displayName": "Shashank Singh",
      "userId": "13663785191081520436"
     },
     "user_tz": -330
    },
    "id": "S0LHPIty1oq_",
    "outputId": "296ff808-5191-4d36-f520-ea7b11411c14"
   },
   "outputs": [],
   "source": [
    "new_data.info()"
   ]
  },
  {
   "cell_type": "code",
   "execution_count": null,
   "metadata": {
    "colab": {
     "base_uri": "https://localhost:8080/"
    },
    "executionInfo": {
     "elapsed": 5,
     "status": "ok",
     "timestamp": 1760467726478,
     "user": {
      "displayName": "Shashank Singh",
      "userId": "13663785191081520436"
     },
     "user_tz": -330
    },
    "id": "A6SRXb7010xg",
    "outputId": "0729124f-2648-49cf-c425-755aa117ef52"
   },
   "outputs": [],
   "source": [
    "distance=sorted(list(enumerate(similarity[2])),reverse=True, key=lambda vector:vector[1])\n",
    "for i in distance[0:5]:\n",
    "  print(new_data.iloc[i[0]].title)"
   ]
  },
  {
   "cell_type": "code",
   "execution_count": null,
   "metadata": {
    "executionInfo": {
     "elapsed": 1,
     "status": "ok",
     "timestamp": 1760467726480,
     "user": {
      "displayName": "Shashank Singh",
      "userId": "13663785191081520436"
     },
     "user_tz": -330
    },
    "id": "Qg9gwpUa17ol"
   },
   "outputs": [],
   "source": [
    "def recommand(movies):\n",
    "  index=new_data[new_data['title']==movies].index[0]\n",
    "  distance=sorted(list(enumerate(similarity[index])),reverse=True, key=lambda vector:vector[1])\n",
    "  for i in distance[0:5]:\n",
    "     print(new_data.iloc[i[0]].title)"
   ]
  },
  {
   "cell_type": "code",
   "execution_count": null,
   "metadata": {
    "colab": {
     "base_uri": "https://localhost:8080/"
    },
    "executionInfo": {
     "elapsed": 16,
     "status": "ok",
     "timestamp": 1760467726497,
     "user": {
      "displayName": "Shashank Singh",
      "userId": "13663785191081520436"
     },
     "user_tz": -330
    },
    "id": "taQeFV96_PJG",
    "outputId": "b199a219-45fb-465a-fd9b-f834b3c43b5c"
   },
   "outputs": [],
   "source": [
    "recommand(\"Iron Man\")"
   ]
  },
  {
   "cell_type": "code",
   "execution_count": null,
   "metadata": {
    "executionInfo": {
     "elapsed": 2,
     "status": "ok",
     "timestamp": 1760467726500,
     "user": {
      "displayName": "Shashank Singh",
      "userId": "13663785191081520436"
     },
     "user_tz": -330
    },
    "id": "36nDTq_r_StA"
   },
   "outputs": [],
   "source": [
    "import pickle"
   ]
  },
  {
   "cell_type": "code",
   "execution_count": null,
   "metadata": {
    "executionInfo": {
     "elapsed": 25,
     "status": "ok",
     "timestamp": 1760467726528,
     "user": {
      "displayName": "Shashank Singh",
      "userId": "13663785191081520436"
     },
     "user_tz": -330
    },
    "id": "cD9I_59O_cm4"
   },
   "outputs": [],
   "source": [
    "pickle.dump(new_data, open('movies_list_pkl', 'wb'))\n",
    "pickle.dump(similarity, open('similarity_pkl', 'wb'))\n"
   ]
  },
  {
   "cell_type": "code",
   "execution_count": null,
   "metadata": {
    "colab": {
     "base_uri": "https://localhost:8080/",
     "height": 423
    },
    "executionInfo": {
     "elapsed": 54,
     "status": "ok",
     "timestamp": 1760467726581,
     "user": {
      "displayName": "Shashank Singh",
      "userId": "13663785191081520436"
     },
     "user_tz": -330
    },
    "id": "ww6bo5r2_z6w",
    "outputId": "9e77dc35-88b6-4169-e9ca-1f17ae3a7786"
   },
   "outputs": [],
   "source": [
    "pickle.load(open('movies_list_pkl', 'rb'))"
   ]
  },
  {
   "cell_type": "code",
   "execution_count": null,
   "metadata": {
    "executionInfo": {
     "elapsed": 29,
     "status": "ok",
     "timestamp": 1760467726611,
     "user": {
      "displayName": "Shashank Singh",
      "userId": "13663785191081520436"
     },
     "user_tz": -330
    },
    "id": "PV2C5BrD_6dU"
   },
   "outputs": [],
   "source": []
  }
 ],
 "metadata": {
  "colab": {
   "authorship_tag": "ABX9TyOMhOxx16JBkoZt/1KSpk+Q",
   "provenance": []
  },
  "kernelspec": {
   "display_name": ".venv",
   "language": "python",
   "name": "python3"
  },
  "language_info": {
   "codemirror_mode": {
    "name": "ipython",
    "version": 3
   },
   "file_extension": ".py",
   "mimetype": "text/x-python",
   "name": "python",
   "nbconvert_exporter": "python",
   "pygments_lexer": "ipython3",
   "version": "3.13.2"
  }
 },
 "nbformat": 4,
 "nbformat_minor": 0
}